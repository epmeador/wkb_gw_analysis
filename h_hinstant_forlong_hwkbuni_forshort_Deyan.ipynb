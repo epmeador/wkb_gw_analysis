{
 "cells": [
  {
   "cell_type": "markdown",
   "metadata": {},
   "source": [
    "# Calculating Tensor Perturbation According to Size of Mode\n",
    "\n",
    "\n",
    "We are using the WKB Theory to account for the radiation to matter transition, this is done a couple of different ways. For long wavelength modes (generally for waves with wavelength much longer than the time taken for a transition to take place) we assume they obey a function like: h_instantaneous, also seen in this paper linked https://arxiv.org/pdf/astro-ph/0412581. For shorter modes we use a modified uniform WKB solution like in Arthur's paper linked https://arxiv.org/pdf/astro-ph/9805173. There is an accompanying written document describing the following function, it is worth mentioning that in the cells below for now we are assuming a **very simplistic** case for now. \n",
    "\n",
    "*My goal at the moment is to make sure everything works computationally and most effciently before I plug in real-world numbers. I will also note that because I will be using large values like 1e18 for conformal time today, I am concerned the computation will break.*\n",
    "\n"
   ]
  },
  {
   "cell_type": "code",
   "execution_count": 8,
   "metadata": {},
   "outputs": [],
   "source": [
    "import numpy as np\n",
    "from numpy import sqrt, sin, cos, pi\n",
    "import matplotlib.pyplot as plt\n",
    "from scipy import special\n",
    "import scipy.integrate as integrate\n",
    "from scipy.integrate import quad\n",
    "from scipy.integrate import odeint\n",
    "from scipy.interpolate import CubicSpline\n",
    "from scipy.integrate import cumtrapz\n",
    "from scipy.misc import derivative\n",
    "from scipy.special import airy\n"
   ]
  },
  {
   "cell_type": "code",
   "execution_count": 9,
   "metadata": {},
   "outputs": [],
   "source": [
    "def h_instantaneous(k, tau, tau_eq, H0):\n",
    "    ktau = k * tau\n",
    "    ktau_eq = k * tau_eq\n",
    "\n",
    "    # Spherical Bessel Functions\n",
    "    j0_ktau = np.sin(ktau) / ktau\n",
    "    j1_ktau = (np.sin(ktau) / ktau) - (np.cos(ktau) / ktau)\n",
    "    y1_ktau = (-np.cos(ktau) / (ktau ** 2)) - (np.sin(ktau) / ktau)\n",
    "\n",
    "    A = ((1.5 * ktau_eq - 0.5 * ktau_eq * np.cos(2 * ktau_eq) + np.sin(2 * ktau_eq)) / (ktau_eq ** 2))\n",
    "    B = ((2 - (2 * (ktau_eq ** 2)) - 2 * np.cos(2 * ktau_eq) - ktau_eq * np.sin(2 * ktau_eq)) / (2 * (ktau_eq ** 2)))\n",
    "\n",
    "    h_instant = np.where(tau < tau_eq, j0_ktau, (tau_eq / tau) * (A * j1_ktau + B * y1_ktau))\n",
    "\n",
    "    return h_instant\n",
    "\n",
    "def u_wkb_uniform(constant, S_star_values, a_star_values, k_range, H0):\n",
    "    u_values = []\n",
    "    for i in range(len(k_range)):\n",
    "        k = k_range[i]\n",
    "        a_star = a_star_values[i]\n",
    "        S_star = S_star_values[i]\n",
    "        \n",
    "        Q = -1 + ((H0**2/(2*a_star**2))*(omega_matter_today/a_star + 4*omega_lambda_today*(a_star**2)))\n",
    "        u_k = 2 * np.sqrt(np.pi) * constant * ((3*S_star)/2)**(1/6) * (Q**(-1/4)) * airy(((3*S_star)/2)**(2/3))[0]\n",
    "        u_values.append(u_k)\n",
    "    return np.array(u_values)\n",
    "\n",
    "\n",
    "def S_0(a_star, omega_matter_today, omega_lambda_today, omega_radiation_today):\n",
    "    def S(x): #defined with variable x\n",
    "        if x == 0:\n",
    "            return 0  # Handles the singularity at x = 0\n",
    "        else:\n",
    "            return (1/np.sqrt(2)) * np.sqrt(((omega_matter_today/x) + (4*omega_lambda_today*(x**2)))/(omega_radiation_today + (omega_matter_today*x) + (omega_lambda_today*(x**4))))\n",
    "\n",
    "    # Integrate from a small but finite value (epsilon) to a_star\n",
    "    epsilon = 1e-3  # Small but finite value\n",
    "    integral = integrate.quad(S, epsilon, a_star)\n",
    "    return integral[0]\n",
    "\n",
    "\n",
    "def combined_h(k, tau, tau_eq, H0, constant, S_star_values, a_star_values, omega_matter_today, omega_lambda_today, omega_radiation_today):\n",
    "    condition = k / H0 <= 1.55\n",
    "    h_values = np.where(condition, h_instantaneous(k, tau, tau_eq, H0), u_wkb_uniform(constant, S_star_values, a_star_values, k, H0))\n",
    "    return h_values\n"
   ]
  },
  {
   "cell_type": "code",
   "execution_count": 10,
   "metadata": {},
   "outputs": [
    {
     "name": "stderr",
     "output_type": "stream",
     "text": [
      "/Users/epmeador/opt/anaconda3/lib/python3.8/site-packages/matplotlib/cbook/__init__.py:1289: ComplexWarning: Casting complex values to real discards the imaginary part\n",
      "  return np.asarray(x, float)\n"
     ]
    },
    {
     "data": {
      "image/png": "[encoded data removed]",
      "text/plain": [
       "<Figure size 432x288 with 1 Axes>"
      ]
     },
     "metadata": {
      "needs_background": "light"
     },
     "output_type": "display_data"
    },
    {
     "name": "stderr",
     "output_type": "stream",
     "text": [
      "/Users/epmeador/opt/anaconda3/lib/python3.8/site-packages/matplotlib/cbook/__init__.py:1289: ComplexWarning: Casting complex values to real discards the imaginary part\n",
      "  return np.asarray(x, float)\n"
     ]
    },
    {
     "data": {
      "image/png": "[encoded data removed]",
      "text/plain": [
       "<Figure size 432x288 with 1 Axes>"
      ]
     },
     "metadata": {
      "needs_background": "light"
     },
     "output_type": "display_data"
    }
   ],
   "source": [
    "\n",
    "\n",
    "# Constants\n",
    "H0 = 70  # Hubble constant\n",
    "tau_eq = 100  # Example value for tau_eq\n",
    "constant = 1.0  # Example value for constant\n",
    "omega_matter_today = 0.3  # Example value for omega_matter_today\n",
    "omega_lambda_today = 0.7  # Example value for omega_lambda_today\n",
    "omega_radiation_today = 0.0  # Example value for omega_radiation_today\n",
    "\n",
    "# Generate some k values\n",
    "k_values = np.linspace(1e-2, 1000, 1000)\n",
    "\n",
    "# Calculate h^2 for each k\n",
    "tau_values = np.linspace(1e-2, 1000, 1000)  # Example values for tau\n",
    "\n",
    "# Calculate a_star based on k\n",
    "a_star_values = 0.5 * omega_matter_today * H0 / (k_values**2)\n",
    "\n",
    "# Calculate S_star for each a_star\n",
    "S_star_values = [S_0(a_star_val, omega_matter_today, omega_lambda_today, omega_radiation_today) for a_star_val in a_star_values]\n",
    "\n",
    "\n",
    "h_values = combined_h(k_values, tau_values, tau_eq, H0, constant,S_star_values, a_star_values, omega_matter_today, omega_lambda_today, omega_radiation_today)\n",
    "h_squared_values = h_values**2\n",
    "\n",
    "# Plot h^2 vs. k\n",
    "plt.plot(k_values, h_values**2)\n",
    "plt.xscale('log')\n",
    "plt.yscale('log')\n",
    "plt.xlabel('k')\n",
    "plt.ylabel('$h^2$')\n",
    "plt.title('$h^2$ vs. $k$')\n",
    "plt.grid(True)\n",
    "plt.show()\n",
    "\n",
    "\n",
    "\n",
    "\n",
    "# Plot h^2 vs. k\n",
    "plt.plot(H0*tau_values, h_values**2)\n",
    "plt.xscale('log')\n",
    "plt.yscale('log')\n",
    "plt.xlabel('H0*tau')\n",
    "plt.ylabel('$h^2$')\n",
    "plt.title('$h^2$ vs. $H0*tau$')\n",
    "plt.grid(True)\n",
    "plt.show()"
   ]
  },
  {
   "cell_type": "code",
   "execution_count": null,
   "metadata": {},
   "outputs": [],
   "source": []
  }
 ],
 "metadata": {
  "kernelspec": {
   "display_name": "Python 3",
   "language": "python",
   "name": "python3"
  },
  "language_info": {
   "codemirror_mode": {
    "name": "ipython",
    "version": 3
   },
   "file_extension": ".py",
   "mimetype": "text/x-python",
   "name": "python",
   "nbconvert_exporter": "python",
   "pygments_lexer": "ipython3",
   "version": "3.8.5"
  }
 },
 "nbformat": 4,
 "nbformat_minor": 4
}
